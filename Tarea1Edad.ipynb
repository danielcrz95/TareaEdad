{
 "cells": [
  {
   "cell_type": "markdown",
   "metadata": {},
   "source": [
    "## Tarea 1 Geoinformatica\n",
    "- Gustavo Daniel Cruz Gutiérrez\n",
    "- Crear un algoritmo que compare las edades de los usuarios e imprima cual es el mas grande."
   ]
  },
  {
   "cell_type": "code",
   "execution_count": 3,
   "metadata": {},
   "outputs": [
    {
     "name": "stdout",
     "output_type": "stream",
     "text": [
      "Escriba el nombre: Daniel\n",
      "Escriba la edad: 26\n",
      "Escriba el segundo nombre: David\n",
      "Escriba la segunda edad: 22\n",
      "El mayor es: Daniel\n"
     ]
    }
   ],
   "source": [
    "nombre1 = input(\"Escriba el nombre: \")\n",
    "edad1 = input(\"Escriba la edad: \")\n",
    "nombre2 = input(\"Escriba el segundo nombre: \")\n",
    "edad2 = input(\"Escriba la segunda edad: \")\n",
    "if edad1>edad2:\n",
    "    print(\"El mayor es:\",nombre1)\n",
    "else:\n",
    "    print(\"El mayor es:\",nombre2)"
   ]
  }
 ],
 "metadata": {
  "kernelspec": {
   "display_name": "Python 3",
   "language": "python",
   "name": "python3"
  },
  "language_info": {
   "codemirror_mode": {
    "name": "ipython",
    "version": 3
   },
   "file_extension": ".py",
   "mimetype": "text/x-python",
   "name": "python",
   "nbconvert_exporter": "python",
   "pygments_lexer": "ipython3",
   "version": "3.8.3"
  }
 },
 "nbformat": 4,
 "nbformat_minor": 4
}
